{
  "nbformat": 4,
  "nbformat_minor": 0,
  "metadata": {
    "colab": {
      "provenance": []
    },
    "kernelspec": {
      "name": "python3",
      "display_name": "Python 3"
    },
    "language_info": {
      "name": "python"
    }
  },
  "cells": [
    {
      "cell_type": "markdown",
      "source": [
        "1. #What are data structures, and why are they important\n",
        "\n",
        " A: Data structures are specialized formats for organizing, storing, and accessing collections of data. They provide efficient ways to manage information based on its characteristics and intended use.\n",
        "\n",
        " IMPORTANCE-\n",
        "            1.Choosing the right data structure significantly impacts the   \n",
        "              efficiency and performance of your program.\n",
        "            2.Well-chosen data structures can\n",
        "            3.Simplify data manipulation (adding, removing, modifying elements)\n",
        "            4.Optimize searching and sorting operations\n",
        "            5.Conserve memory usage"
      ],
      "metadata": {
        "id": "5ZBPLEahYsiF"
      }
    },
    {
      "cell_type": "markdown",
      "source": [],
      "metadata": {
        "id": "rgPi3yzFVjTo"
      }
    },
    {
      "cell_type": "code",
      "source": [
        "2. #Explain the difference between mutable and immutable data types with examples\n",
        "   A:Mutable data types are those whose values can be modified after they are\n",
        "   created.\n",
        "   ex-List,Dictionaries,Sets"
      ],
      "metadata": {
        "id": "fAXU4KELZSL6"
      },
      "execution_count": null,
      "outputs": []
    },
    {
      "cell_type": "code",
      "source": [
        "my_list = [1, 2, 3]\n",
        "print(my_list)\n",
        "my_list.append(4)\n",
        "print(my_list)"
      ],
      "metadata": {
        "colab": {
          "base_uri": "https://localhost:8080/"
        },
        "id": "xOKuXhpGX1tY",
        "outputId": "1d8de238-cbd7-48b5-fa40-388768c0b433"
      },
      "execution_count": null,
      "outputs": [
        {
          "output_type": "stream",
          "name": "stdout",
          "text": [
            "[1, 2, 3]\n",
            "[1, 2, 3, 4]\n"
          ]
        }
      ]
    },
    {
      "cell_type": "markdown",
      "source": [
        "      A:Immutable data types are those whose values cannot be changes after they are  created.\n",
        "      ex-String,Integers,Floats,Tuples"
      ],
      "metadata": {
        "id": "TU0emGJ7Y8XC"
      }
    },
    {
      "cell_type": "markdown",
      "source": [],
      "metadata": {
        "id": "QA8Kk7SxVpiv"
      }
    },
    {
      "cell_type": "code",
      "source": [
        "my_string = \"Hello\"\n",
        "print(my_string)\n",
        "new_string = my_string + \" world\"\n",
        "print(new_string)"
      ],
      "metadata": {
        "colab": {
          "base_uri": "https://localhost:8080/"
        },
        "id": "MIV1BC2jaIV5",
        "outputId": "e0e44577-abcf-4161-df82-9e4ed05af7bc"
      },
      "execution_count": null,
      "outputs": [
        {
          "output_type": "stream",
          "name": "stdout",
          "text": [
            "Hello\n",
            "Hello world\n"
          ]
        }
      ]
    },
    {
      "cell_type": "markdown",
      "source": [],
      "metadata": {
        "id": "AztkHS2fbTia"
      }
    },
    {
      "cell_type": "code",
      "source": [],
      "metadata": {
        "id": "-XCiaAp3afnM"
      },
      "execution_count": null,
      "outputs": []
    },
    {
      "cell_type": "markdown",
      "source": [
        "3. #What are the main differences between lists and tuples in Python?\n",
        "\n",
        "  A:The key difference between tuples and lists is that while tuples are immutable objects,\n",
        "\n",
        "  lists are mutable. This means tuples cannot be changed while lists can be modified.\n",
        "  \n",
        "  Tuples are also more memory efficient than the lists."
      ],
      "metadata": {
        "id": "m08IAlg4bV7i"
      }
    },
    {
      "cell_type": "markdown",
      "source": [
        "4. #Describe how dictionaries store data.\n",
        "\n",
        "   A: A dictionary stores data as a collection of \"key\".\n",
        "  \n",
        "      It is flexible in that it allows a dictionary to contain keys of a wide\n",
        "      variety of types.\n",
        "\n",
        "      For example, the same dictionary can contain keys that are\n",
        "      integers,\n",
        "      floats, tuples, booleans, strings, and other types."
      ],
      "metadata": {
        "id": "QgC3UXo1NQI_"
      }
    },
    {
      "cell_type": "markdown",
      "source": [
        "5. #Why might you use a set instead of a list in Python?\n",
        "\n",
        "  A: sets cannot have multiple occurrences of the same element,\n",
        "     it makes sets highly useful to efficiently remove duplicate\n",
        "     values from a list or tuple and to perform common math\n",
        "     operations like unions and intersections."
      ],
      "metadata": {
        "id": "7sEvzfbPNnid"
      }
    },
    {
      "cell_type": "markdown",
      "source": [
        "6. #What is a string in Python, and how is it different from a list?\n",
        "   \n",
        "   A: A string is a sequence of characters that can be a combination of letters, numbers, and special characters,It can be declared in python by using single quotes, double quotes, or even triple quotes.\n",
        "\n",
        "   A string is immutable, meaning you cannot change individual characters within it after creation. A list is mutable, allowing you to add, remove, or modify elements at any point.\n",
        "\n",
        "   A string only stores characters ,while a list can store any data type including integers, floats, other strings, and even other lists."
      ],
      "metadata": {
        "id": "nq1tvlYXO1Fi"
      }
    },
    {
      "cell_type": "markdown",
      "source": [
        "7. #How do tuples ensure data integrity in Python?\n",
        "\n",
        "   A: A tuple in Python is a collection data type that is both ordered and immutable. This means that once a tuple is created, its elements cannot be changed, added, or removed.\n",
        "\n",
        "   Once a tuple is created, its elements cannot be modified. This immutability ensures data integrity, making tuples a reliable choice for storing fixed collections of items."
      ],
      "metadata": {
        "id": "PQQkPUdTP5f8"
      }
    },
    {
      "cell_type": "markdown",
      "source": [
        "8. #What is a hash table, and how does it relate to dictionaries in Python?\n",
        "\n",
        "   A: Hash tables are a type of data structure in which the address/index value of the data element is generated from a hash function.his enables very fast data access as the index value behaves as a key for the data value.\n",
        "\n",
        "   In Python, dictionaries are implemented using hash tables.This means that the underlying mechanism for storing and retrieving key-value pairs in a dictionary is a hash table.\n"
      ],
      "metadata": {
        "id": "hE87I1rXQ6as"
      }
    },
    {
      "cell_type": "markdown",
      "source": [
        "9. #Can lists contain different data types in Python?\n",
        "\n",
        "   A: A list in Python CAN contain different types of data. Each item in the list is separated by a comma and the entire list is enclosed in square brackets [].\n",
        "\n",
        "   To add a new item to the list, just edit the list starting before the closing bracket. Add a comma and the new item. It doesn’t matter what the type is for the previous item."
      ],
      "metadata": {
        "id": "0Ew1B1-MSb35"
      }
    },
    {
      "cell_type": "markdown",
      "source": [
        "10. #Explain why strings are immutable in Python.\n",
        "\n",
        "   A: The immutability of Python string is very useful as it helps in hashing, performance optimization, safety, ease of use, etc."
      ],
      "metadata": {
        "id": "t63Fx3I3S8fo"
      }
    },
    {
      "cell_type": "markdown",
      "source": [
        "11. #What advantages do dictionaries offer over lists for certain tasks?\n",
        "\n",
        "    A: It’s quicker and easier to find a specific element in a dictionary.\n",
        "    Python has a list, which is a mutable data structure with an ordered list of elements.\n",
        "\n",
        "    A list's elements are any items or values that are contained within it. The definition of a list is a set of values enclosed in square brackets ([]) and separated by commas.\n",
        "\n",
        "    The data collected is stored as key-value pairs in the dictionary, a standard Python data structure. The word \"dictionary\" is enclosed in curly brackets (), spaced by commas.\n",
        "\n",
        "    Due to the above difference between lists and dictionaries getting the elements from the list data structure is more complex when compared to dictionaries.\n",
        "\n",
        "    So it is more efficient to use dictionaries for the searching of elements as it can be carried out in a much faster manner.\n",
        "\n",
        "    Lists are used when it is important to maintain the order of the elements and dealing with data that may get changed in the future.\n",
        "\n",
        "    Therefore the correct option is it’s quicker and easier to find a specific element in a dictionary."
      ],
      "metadata": {
        "id": "0ZBlTeS9U5xI"
      }
    },
    {
      "cell_type": "markdown",
      "source": [
        "12. #Describe a scenario where using a tuple would be preferable over a list.\n",
        "\n",
        "    A: The main difference between tuples and lists is that tuples are immutable, meaning their contents cannot be changed after creation, while lists are mutable and can be modified. Additionally, tuples are more memory-efficient compared to lists.\n",
        "\n",
        "    Tuples can't be changed after they're created, but lists can be modified. Tuples use less memory than lists. They are also a bit faster, especially when you're just looking up values. So, if you have data that you don't want to change, it's better to use tuples instead of lists.\n",
        "\n",
        "    Lists has more built-in methods ,Tuples has fewer built-in methods.\n",
        "\n",
        "    Lists consume more memory due to flexibility,Tuples consume less memory due to immutability."
      ],
      "metadata": {
        "id": "7FXFpJ7tWVjY"
      }
    },
    {
      "cell_type": "markdown",
      "source": [
        "13. #How do sets handle duplicate values in Python4\n",
        "   \n",
        "    A: Items of a set in python are immutable (unchangeable),\n",
        "    do not duplicate values, and unordered.Thus, items in a set do not appear in a stipulated manner,hey can appear in a different order every time it is used.\n",
        "\n",
        "    Multiple Ways To Check if duplicates exist in a Python List\n",
        "    \n",
        "    1.The length of List & length of Set are different.\n",
        "\n",
        "    2.Check each element in set. if yes, dup, if not, append.\n",
        "\n",
        "    3.Check for list.count() for each element."
      ],
      "metadata": {
        "id": "puWk7DGqYdVw"
      }
    },
    {
      "cell_type": "markdown",
      "source": [
        "14. #How does the “in” keyword work differently for lists and dictionaries4\n",
        "\n",
        "    A: List: \"in\" checks if a value is present among the elements in the list.\n",
        "\n",
        "    Dictionary: \"in\" checks if a value is present as a key in the dictionary.\n",
        "\n",
        "    When using the \"in\" keyword, it checks for membership within a data structure, but in a list, it checks if a specific value exists within the list of elements, while in a dictionary, it checks if a given value exists as a key within the dictionary; meaning \"in\" only looks at the keys of a dictionary, not the values."
      ],
      "metadata": {
        "id": "34jHd0yYacvj"
      }
    },
    {
      "cell_type": "markdown",
      "source": [
        "15. #Can you modify the elements of a tuple? Explain why or why not.\n",
        "\n",
        "    A: you cannot modify the elements of a tuple in Python because tuples are \"immutable,\" meaning once created, their elements cannot be changed, added, or removed; attempting to do so will result in a TypeError."
      ],
      "metadata": {
        "id": "wNhYg26lbRng"
      }
    },
    {
      "cell_type": "markdown",
      "source": [
        "16. #What is a nested dictionary, and give an example of its use case?\n",
        "   \n",
        "    A: In Python, a nested dictionary is a dictionary inside a dictionary. It's a collection of dictionaries into one single dictionary."
      ],
      "metadata": {
        "id": "XwCQyJ4Cg7UA"
      }
    },
    {
      "cell_type": "code",
      "source": [
        "candidate = {1: {'name': 'payel', 'age': '30', 'sex': 'female'},\n",
        "             2: {'name': 'lakhan', 'age': '33', 'sex': 'male'}}\n",
        "print(candidate)\n"
      ],
      "metadata": {
        "colab": {
          "base_uri": "https://localhost:8080/"
        },
        "id": "gdo4yiAIiACv",
        "outputId": "66f1dd3b-06d5-4614-ac3f-590027228a50"
      },
      "execution_count": null,
      "outputs": [
        {
          "output_type": "stream",
          "name": "stdout",
          "text": [
            "{1: {'name': 'payel', 'age': '30', 'sex': 'female'}, 2: {'name': 'lakhan', 'age': '33', 'sex': 'male'}}\n"
          ]
        }
      ]
    },
    {
      "cell_type": "markdown",
      "source": [
        "17. #Describe the time complexity of accessing elements in a dictionary.\n",
        "\n",
        "    A:"
      ],
      "metadata": {
        "id": "yiv_jQp-iSw3"
      }
    },
    {
      "cell_type": "markdown",
      "source": [
        "18. #In what situations are lists preferred over dictionaries?\n",
        "\n",
        "    A:In Python, both lists and dictionaries are versatile data structures, but they serve different purposes and are suited to different use cases.\n",
        "\n",
        "    Use a list when:\n",
        "\n",
        "    Order Matters: You need to maintain the order of elements, as lists are ordered collections.\n",
        "\n",
        "    You want to access elements by their position (index) in the collection\n",
        "\n",
        "    Lists are straightforward and easy to use for sequential data.\n",
        "\n",
        "    Lists are optimized for iterating through elements\n",
        "\n",
        "    Use a dictionary when\n",
        "\n",
        "    You need to associate values with unique keys (e.g., a name with an age).\n",
        "\n",
        "    You require fast access to elements based on a key rather than an index.\n",
        "\n",
        "    The order of elements does not matter, as dictionaries are unordered collections\n",
        "\n",
        "    Dictionaries provide average O(1) time complexity for lookups, insertions, and deletions due to their hash table implementation.\n",
        "\n",
        "    Choose a list when you need an ordered collection of items and will frequently access them by their position.\n",
        "\n",
        "    Choose a dictionary when you need to map unique keys to values for fast access and when the relationship between keys and values is important."
      ],
      "metadata": {
        "id": "jhTR5jPbjEfh"
      }
    },
    {
      "cell_type": "markdown",
      "source": [
        "19. #Why are dictionaries considered unordered, and how does that affect data retrieval?\n",
        "\n",
        "    A: Basically, The dictionary is an unordered collection that contains key:value pairs separated by commas inside curly brackets. Dictionaries are optimized to retrieve values when the key is known.\n",
        "\n",
        "    Dictionary is a data structure which is a important value structure, optimized for fast storage and recovery based on key.\n",
        "\n",
        "\n"
      ],
      "metadata": {
        "id": "Y9nvCnvBkx64"
      }
    },
    {
      "cell_type": "markdown",
      "source": [
        "20. # Explain the difference between a list and a dictionary in terms of data retrieval.\n",
        "\n",
        "    A: The fundamental difference is that elements of a list can be randomly accessed using their physical position (subscript). A list has direct methods to add or remove elements to/from the ends, and segments or ranges of the list can be obtained by slicing.\n",
        "\n",
        "    In contrast, in a dictionary, each element has an associated key, which can be anything that is immutable in Python.\n",
        "\n",
        "    In A dictionary, you will access elements randomly using the value of the corresponding key. A dictionary has no beginning and no end.he dictionary is faster if you are looking to see if an item is in it\n",
        "\n",
        "    The list is a mutable data type\n",
        "\n",
        "    A list is enclosed within the square brackets [ ].\n",
        "\n",
        "    It has a proper way of indexing.Eg [1,2,3,45,88,0]\n",
        "\n",
        "    Dictionary is a mutable data type, but keys are to be of immutable type and values can be of any type.\n",
        "\n",
        "    It is enclosed within the curly bracket { }.\n",
        "\n",
        "    It is a combination of keys and values.\n",
        "\n",
        "    Here, its keys serve as its index values.Eg {1:'a’ ,2:'b’}\n",
        "\n"
      ],
      "metadata": {
        "id": "Dgw-83J1m70v"
      }
    },
    {
      "cell_type": "code",
      "source": [
        "1.#Write a code to create a string with your name and print it.\n",
        "name = \"Payel\"\n",
        "print(name)"
      ],
      "metadata": {
        "id": "XT8C8aZk9Ijx",
        "colab": {
          "base_uri": "https://localhost:8080/"
        },
        "outputId": "1cee7cd7-7f62-45ba-be38-232cc27a5958"
      },
      "execution_count": null,
      "outputs": [
        {
          "output_type": "stream",
          "name": "stdout",
          "text": [
            "Payel\n"
          ]
        }
      ]
    },
    {
      "cell_type": "code",
      "source": [
        "2.#Write a code to find the length of the string \"Hello World\"\n",
        "my_string = \"hello world\"\n",
        "string_length = len(my_string)\n",
        "print(string_length)"
      ],
      "metadata": {
        "colab": {
          "base_uri": "https://localhost:8080/"
        },
        "id": "hwrXVH7l-CbU",
        "outputId": "c65255e2-1ae5-42c9-b121-7af64492f367"
      },
      "execution_count": null,
      "outputs": [
        {
          "output_type": "stream",
          "name": "stdout",
          "text": [
            "11\n"
          ]
        }
      ]
    },
    {
      "cell_type": "code",
      "source": [
        "3.#Write a code to slice the first 3 characters from the string \"Python Programming\"\n",
        "my_string = \"Python Programming\"\n",
        "my_string[0:3]"
      ],
      "metadata": {
        "colab": {
          "base_uri": "https://localhost:8080/",
          "height": 35
        },
        "id": "xFGW6LR5_DfO",
        "outputId": "9256937c-4031-420e-f3ea-682ca7f09c0a"
      },
      "execution_count": null,
      "outputs": [
        {
          "output_type": "execute_result",
          "data": {
            "text/plain": [
              "'Pyt'"
            ],
            "application/vnd.google.colaboratory.intrinsic+json": {
              "type": "string"
            }
          },
          "metadata": {},
          "execution_count": 11
        }
      ]
    },
    {
      "cell_type": "code",
      "source": [
        "4.#Write a code to convert the string \"hello\" to uppercaseE\n",
        "text = \"hello\"\n",
        "text.upper()"
      ],
      "metadata": {
        "colab": {
          "base_uri": "https://localhost:8080/",
          "height": 35
        },
        "id": "d65LjU6PFo_k",
        "outputId": "7f5202dc-c74a-4859-ade8-65ed876bcc19"
      },
      "execution_count": null,
      "outputs": [
        {
          "output_type": "execute_result",
          "data": {
            "text/plain": [
              "'HELLO'"
            ],
            "application/vnd.google.colaboratory.intrinsic+json": {
              "type": "string"
            }
          },
          "metadata": {},
          "execution_count": 15
        }
      ]
    },
    {
      "cell_type": "code",
      "source": [
        "5.#Write a code to replace the word \"apple\" with \"orange\" in the string \"I like apple\"\n",
        "my_string = \"I like apple\"\n",
        "my_string.replace (\"apple\", \"orenge\")"
      ],
      "metadata": {
        "id": "VjJPlskQNc6i",
        "colab": {
          "base_uri": "https://localhost:8080/",
          "height": 35
        },
        "outputId": "67256523-fcbe-4a5e-c3be-099a055584c4"
      },
      "execution_count": null,
      "outputs": [
        {
          "output_type": "execute_result",
          "data": {
            "text/plain": [
              "'I like orenge'"
            ],
            "application/vnd.google.colaboratory.intrinsic+json": {
              "type": "string"
            }
          },
          "metadata": {},
          "execution_count": 3
        }
      ]
    },
    {
      "cell_type": "code",
      "source": [
        "6.#Write a code to create a list with numbers 1 to 5 and print it.\n",
        "my_list = [1, 2, 3, 4, 5,]\n",
        "my_list"
      ],
      "metadata": {
        "colab": {
          "base_uri": "https://localhost:8080/"
        },
        "id": "WGfHJH3Ff8uf",
        "outputId": "e778d52f-bb6b-497d-8845-92faf62464fc"
      },
      "execution_count": null,
      "outputs": [
        {
          "output_type": "execute_result",
          "data": {
            "text/plain": [
              "[1, 2, 3, 4, 5]"
            ]
          },
          "metadata": {},
          "execution_count": 7
        }
      ]
    },
    {
      "cell_type": "code",
      "source": [
        "7.#Write a code to append the number 10 to the list [1, 2, 3, 4]\n",
        "my_list = [1, 2, 3, 4]\n",
        "my_list.append(10)\n",
        "print(my_list)"
      ],
      "metadata": {
        "colab": {
          "base_uri": "https://localhost:8080/"
        },
        "id": "HRlM8XxuhaEJ",
        "outputId": "b629b0e1-843b-42b2-89f0-da38550c8575"
      },
      "execution_count": null,
      "outputs": [
        {
          "output_type": "stream",
          "name": "stdout",
          "text": [
            "[1, 2, 3, 4, 10]\n"
          ]
        }
      ]
    },
    {
      "cell_type": "code",
      "source": [
        "8#Write a code to remove the number 3 from the list [1, 2, 3, 4, 5]\n",
        "my_list = [1, 2, 3, 4, 5]\n",
        "my_list.remove(3)\n",
        "print(my_list)"
      ],
      "metadata": {
        "colab": {
          "base_uri": "https://localhost:8080/"
        },
        "id": "O8Jvf1FBiTNX",
        "outputId": "b464d274-5d2c-4656-9b87-c46e4cc017a4"
      },
      "execution_count": null,
      "outputs": [
        {
          "output_type": "stream",
          "name": "stdout",
          "text": [
            "[1, 2, 4, 5]\n"
          ]
        }
      ]
    },
    {
      "cell_type": "code",
      "source": [
        "9# Write a code to access the second element in the list ['a', 'b', 'c', 'd'].\n",
        "my_list = ['a', 'b', 'c', 'd']\n",
        "second_element = my_list [1]\n",
        "print(second_element)"
      ],
      "metadata": {
        "colab": {
          "base_uri": "https://localhost:8080/"
        },
        "id": "HydFvRitjIUx",
        "outputId": "b39d619b-fde5-4561-e9a7-9c2c62647a0e"
      },
      "execution_count": null,
      "outputs": [
        {
          "output_type": "stream",
          "name": "stdout",
          "text": [
            "b\n"
          ]
        }
      ]
    },
    {
      "cell_type": "code",
      "source": [
        "10#Write a code to reverse the list [10, 20, 30, 40, 50].\n",
        "my_list = [10, 20, 30, 40, 50]\n",
        "rev = my_list[::-1]\n",
        "print(rev)\n"
      ],
      "metadata": {
        "colab": {
          "base_uri": "https://localhost:8080/"
        },
        "id": "lYmuAaYLj862",
        "outputId": "6964d0ae-9074-4402-d7a2-a46697e2441e"
      },
      "execution_count": null,
      "outputs": [
        {
          "output_type": "stream",
          "name": "stdout",
          "text": [
            "[50, 40, 30, 20, 10]\n"
          ]
        }
      ]
    },
    {
      "cell_type": "code",
      "source": [
        "11#Write a code to create a tuple with the elements 10, 20, 30 and print it.\n",
        "my_tuple = (10, 20, 30)\n",
        "print(my_tuple)"
      ],
      "metadata": {
        "colab": {
          "base_uri": "https://localhost:8080/"
        },
        "id": "p2fSSzdZl5vD",
        "outputId": "be9a47be-2e00-4796-c9ec-45713b242677"
      },
      "execution_count": null,
      "outputs": [
        {
          "output_type": "stream",
          "name": "stdout",
          "text": [
            "(10, 20, 30)\n"
          ]
        }
      ]
    },
    {
      "cell_type": "code",
      "source": [
        "12# Write a code to access the first element of the tuple ('apple', 'banana', 'cherry').\n",
        "my_tuple = ('apple', 'banana','cherry')\n",
        "first_element = my_tuple [0]\n",
        "print(first_element)"
      ],
      "metadata": {
        "colab": {
          "base_uri": "https://localhost:8080/"
        },
        "id": "vVBFvdqCnEGj",
        "outputId": "67dcd6d5-f25d-4298-8ad9-af1231c0c7b0"
      },
      "execution_count": null,
      "outputs": [
        {
          "output_type": "stream",
          "name": "stdout",
          "text": [
            "apple\n"
          ]
        }
      ]
    },
    {
      "cell_type": "code",
      "source": [
        "13#Write a code to count how many times the number 2 appears in the tuple (1, 2, 3, 2, 4, 2).\n",
        "number = (1, 2, 3, 2, 4, 2)\n",
        "number.count(2)\n",
        "print(number.count(2))"
      ],
      "metadata": {
        "colab": {
          "base_uri": "https://localhost:8080/"
        },
        "id": "CIjPc3e8n5t5",
        "outputId": "b82952fa-e9c0-492a-9c95-9b8427dc97f6"
      },
      "execution_count": null,
      "outputs": [
        {
          "output_type": "stream",
          "name": "stdout",
          "text": [
            "3\n"
          ]
        }
      ]
    },
    {
      "cell_type": "code",
      "source": [
        "14.#Write a code to find the index of the element \"cat\" in the tuple ('dog', 'cat', 'rabbit').\n",
        "name = ('dog', 'cat', 'rabbit')\n",
        "print(name.index('cat'))"
      ],
      "metadata": {
        "colab": {
          "base_uri": "https://localhost:8080/"
        },
        "id": "8M6udWE1p7s3",
        "outputId": "2660b741-18f0-4f65-ae95-424843020228"
      },
      "execution_count": 6,
      "outputs": [
        {
          "output_type": "stream",
          "name": "stdout",
          "text": [
            "1\n"
          ]
        }
      ]
    },
    {
      "cell_type": "code",
      "source": [
        "15.# Write a code to check if the element \"banana\" is in the tuple ('apple', 'orange', 'banana')\n",
        "fruits_tuple = ('apple', 'orange', 'banana')\n",
        "print(fruits)\n",
        "print('banana' in fruits_tuple)"
      ],
      "metadata": {
        "colab": {
          "base_uri": "https://localhost:8080/"
        },
        "id": "ZMfbRNveZP7H",
        "outputId": "9b701174-ecaa-4175-a720-dff5193a09d9"
      },
      "execution_count": 10,
      "outputs": [
        {
          "output_type": "stream",
          "name": "stdout",
          "text": [
            "('apple', 'orange', 'banana')\n",
            "True\n"
          ]
        }
      ]
    },
    {
      "cell_type": "code",
      "source": [
        "16# Write a code to create a set with the elements 1, 2, 3, 4, 5 and print it.\n",
        "my_sets = {1, 2, 3, 4, 5}\n",
        "print(my_sets)"
      ],
      "metadata": {
        "colab": {
          "base_uri": "https://localhost:8080/"
        },
        "id": "tRW_onYca_-6",
        "outputId": "c218f849-de83-41bc-c38a-0f0d908c2c99"
      },
      "execution_count": 11,
      "outputs": [
        {
          "output_type": "stream",
          "name": "stdout",
          "text": [
            "{1, 2, 3, 4, 5}\n"
          ]
        }
      ]
    },
    {
      "cell_type": "code",
      "source": [
        "17# Write a code to add the element 6 to the set {1, 2, 3, 4}.\n",
        "my_set = {1, 2, 3, 4}\n",
        "my_set.add(6)\n",
        "print(my_set)"
      ],
      "metadata": {
        "colab": {
          "base_uri": "https://localhost:8080/"
        },
        "id": "KFK-02Ojcb2Z",
        "outputId": "7e8b0f2a-5b67-41b6-f23c-ab3a968fd9a5"
      },
      "execution_count": 12,
      "outputs": [
        {
          "output_type": "stream",
          "name": "stdout",
          "text": [
            "{1, 2, 3, 4, 6}\n"
          ]
        }
      ]
    },
    {
      "cell_type": "markdown",
      "source": [
        "question no 18 to 24 are repete questions\n"
      ],
      "metadata": {
        "id": "7AWjrPxieHWN"
      }
    }
  ]
}